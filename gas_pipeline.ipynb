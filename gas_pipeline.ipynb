{
  "cells": [
    {
      "cell_type": "code",
      "execution_count": null,
      "metadata": {
        "id": "rVVoIdmC1lOn"
      },
      "outputs": [],
      "source": [
        "import pandas as pd\n",
        "from xgboost import XGBClassifier\n",
        "from sklearn.model_selection import train_test_split\n",
        "from sklearn.metrics import accuracy_score\n",
        "from sklearn.metrics import precision_score, recall_score, f1_score, accuracy_score\n",
        "import seaborn as sns"
      ]
    },
    {
      "cell_type": "code",
      "source": [
        "from google.colab import drive\n",
        "drive.mount('/content/drive')"
      ],
      "metadata": {
        "id": "Sa3lQ1YUhyjZ"
      },
      "execution_count": null,
      "outputs": []
    },
    {
      "cell_type": "code",
      "execution_count": null,
      "metadata": {
        "id": "T9z4an7P1-8i"
      },
      "outputs": [],
      "source": [
        "df = pd.read_csv('gas_final.csv')"
      ]
    },
    {
      "cell_type": "code",
      "execution_count": null,
      "metadata": {
        "colab": {
          "base_uri": "https://localhost:8080/",
          "height": 299
        },
        "id": "h72Tdlzu2Ere",
        "outputId": "811a87ee-f74d-429b-d973-d4ec432ca10f"
      },
      "outputs": [
        {
          "data": {
            "text/html": [
              "\n",
              "  <div id=\"df-8c711513-f911-4bb5-9ddc-2d1ad020e052\">\n",
              "    <div class=\"colab-df-container\">\n",
              "      <div>\n",
              "<style scoped>\n",
              "    .dataframe tbody tr th:only-of-type {\n",
              "        vertical-align: middle;\n",
              "    }\n",
              "\n",
              "    .dataframe tbody tr th {\n",
              "        vertical-align: top;\n",
              "    }\n",
              "\n",
              "    .dataframe thead th {\n",
              "        text-align: right;\n",
              "    }\n",
              "</style>\n",
              "<table border=\"1\" class=\"dataframe\">\n",
              "  <thead>\n",
              "    <tr style=\"text-align: right;\">\n",
              "      <th></th>\n",
              "      <th>command_address</th>\n",
              "      <th>response_address</th>\n",
              "      <th>command_memory</th>\n",
              "      <th>response_memory</th>\n",
              "      <th>command_memory_count</th>\n",
              "      <th>response_memory_count</th>\n",
              "      <th>comm_read_function</th>\n",
              "      <th>comm_write_fun</th>\n",
              "      <th>resp_read_fun</th>\n",
              "      <th>resp_write_fun</th>\n",
              "      <th>...</th>\n",
              "      <th>rate</th>\n",
              "      <th>setpoint</th>\n",
              "      <th>control_mode</th>\n",
              "      <th>control_scheme</th>\n",
              "      <th>pump</th>\n",
              "      <th>solenoid</th>\n",
              "      <th>crc_rate</th>\n",
              "      <th>measurement</th>\n",
              "      <th>time</th>\n",
              "      <th>result</th>\n",
              "    </tr>\n",
              "  </thead>\n",
              "  <tbody>\n",
              "    <tr>\n",
              "      <th>0</th>\n",
              "      <td>4</td>\n",
              "      <td>4</td>\n",
              "      <td>183</td>\n",
              "      <td>233</td>\n",
              "      <td>9</td>\n",
              "      <td>18</td>\n",
              "      <td>3</td>\n",
              "      <td>10</td>\n",
              "      <td>3.0</td>\n",
              "      <td>10.0</td>\n",
              "      <td>...</td>\n",
              "      <td>0.0</td>\n",
              "      <td>20.0</td>\n",
              "      <td>2.0</td>\n",
              "      <td>1.0</td>\n",
              "      <td>0.0</td>\n",
              "      <td>0.0</td>\n",
              "      <td>0.0</td>\n",
              "      <td>0.517241</td>\n",
              "      <td>1.029393</td>\n",
              "      <td>0.0</td>\n",
              "    </tr>\n",
              "    <tr>\n",
              "      <th>1</th>\n",
              "      <td>2</td>\n",
              "      <td>4</td>\n",
              "      <td>183</td>\n",
              "      <td>233</td>\n",
              "      <td>9</td>\n",
              "      <td>18</td>\n",
              "      <td>3</td>\n",
              "      <td>10</td>\n",
              "      <td>3.0</td>\n",
              "      <td>10.0</td>\n",
              "      <td>...</td>\n",
              "      <td>0.0</td>\n",
              "      <td>20.0</td>\n",
              "      <td>2.0</td>\n",
              "      <td>1.0</td>\n",
              "      <td>0.0</td>\n",
              "      <td>0.0</td>\n",
              "      <td>0.0</td>\n",
              "      <td>0.528736</td>\n",
              "      <td>1.069859</td>\n",
              "      <td>6.0</td>\n",
              "    </tr>\n",
              "    <tr>\n",
              "      <th>2</th>\n",
              "      <td>4</td>\n",
              "      <td>4</td>\n",
              "      <td>183</td>\n",
              "      <td>233</td>\n",
              "      <td>9</td>\n",
              "      <td>18</td>\n",
              "      <td>3</td>\n",
              "      <td>10</td>\n",
              "      <td>3.0</td>\n",
              "      <td>10.0</td>\n",
              "      <td>...</td>\n",
              "      <td>0.0</td>\n",
              "      <td>20.0</td>\n",
              "      <td>2.0</td>\n",
              "      <td>1.0</td>\n",
              "      <td>0.0</td>\n",
              "      <td>0.0</td>\n",
              "      <td>0.0</td>\n",
              "      <td>0.528736</td>\n",
              "      <td>1.244466</td>\n",
              "      <td>0.0</td>\n",
              "    </tr>\n",
              "    <tr>\n",
              "      <th>3</th>\n",
              "      <td>4</td>\n",
              "      <td>4</td>\n",
              "      <td>183</td>\n",
              "      <td>233</td>\n",
              "      <td>9</td>\n",
              "      <td>18</td>\n",
              "      <td>3</td>\n",
              "      <td>10</td>\n",
              "      <td>3.0</td>\n",
              "      <td>10.0</td>\n",
              "      <td>...</td>\n",
              "      <td>0.0</td>\n",
              "      <td>20.0</td>\n",
              "      <td>2.0</td>\n",
              "      <td>1.0</td>\n",
              "      <td>0.0</td>\n",
              "      <td>0.0</td>\n",
              "      <td>0.0</td>\n",
              "      <td>0.540230</td>\n",
              "      <td>1.251695</td>\n",
              "      <td>0.0</td>\n",
              "    </tr>\n",
              "    <tr>\n",
              "      <th>4</th>\n",
              "      <td>5</td>\n",
              "      <td>4</td>\n",
              "      <td>183</td>\n",
              "      <td>233</td>\n",
              "      <td>9</td>\n",
              "      <td>18</td>\n",
              "      <td>3</td>\n",
              "      <td>10</td>\n",
              "      <td>3.0</td>\n",
              "      <td>10.0</td>\n",
              "      <td>...</td>\n",
              "      <td>0.0</td>\n",
              "      <td>20.0</td>\n",
              "      <td>2.0</td>\n",
              "      <td>1.0</td>\n",
              "      <td>0.0</td>\n",
              "      <td>0.0</td>\n",
              "      <td>0.0</td>\n",
              "      <td>0.540230</td>\n",
              "      <td>1.123325</td>\n",
              "      <td>6.0</td>\n",
              "    </tr>\n",
              "  </tbody>\n",
              "</table>\n",
              "<p>5 rows × 27 columns</p>\n",
              "</div>\n",
              "      <button class=\"colab-df-convert\" onclick=\"convertToInteractive('df-8c711513-f911-4bb5-9ddc-2d1ad020e052')\"\n",
              "              title=\"Convert this dataframe to an interactive table.\"\n",
              "              style=\"display:none;\">\n",
              "        \n",
              "  <svg xmlns=\"http://www.w3.org/2000/svg\" height=\"24px\"viewBox=\"0 0 24 24\"\n",
              "       width=\"24px\">\n",
              "    <path d=\"M0 0h24v24H0V0z\" fill=\"none\"/>\n",
              "    <path d=\"M18.56 5.44l.94 2.06.94-2.06 2.06-.94-2.06-.94-.94-2.06-.94 2.06-2.06.94zm-11 1L8.5 8.5l.94-2.06 2.06-.94-2.06-.94L8.5 2.5l-.94 2.06-2.06.94zm10 10l.94 2.06.94-2.06 2.06-.94-2.06-.94-.94-2.06-.94 2.06-2.06.94z\"/><path d=\"M17.41 7.96l-1.37-1.37c-.4-.4-.92-.59-1.43-.59-.52 0-1.04.2-1.43.59L10.3 9.45l-7.72 7.72c-.78.78-.78 2.05 0 2.83L4 21.41c.39.39.9.59 1.41.59.51 0 1.02-.2 1.41-.59l7.78-7.78 2.81-2.81c.8-.78.8-2.07 0-2.86zM5.41 20L4 18.59l7.72-7.72 1.47 1.35L5.41 20z\"/>\n",
              "  </svg>\n",
              "      </button>\n",
              "      \n",
              "  <style>\n",
              "    .colab-df-container {\n",
              "      display:flex;\n",
              "      flex-wrap:wrap;\n",
              "      gap: 12px;\n",
              "    }\n",
              "\n",
              "    .colab-df-convert {\n",
              "      background-color: #E8F0FE;\n",
              "      border: none;\n",
              "      border-radius: 50%;\n",
              "      cursor: pointer;\n",
              "      display: none;\n",
              "      fill: #1967D2;\n",
              "      height: 32px;\n",
              "      padding: 0 0 0 0;\n",
              "      width: 32px;\n",
              "    }\n",
              "\n",
              "    .colab-df-convert:hover {\n",
              "      background-color: #E2EBFA;\n",
              "      box-shadow: 0px 1px 2px rgba(60, 64, 67, 0.3), 0px 1px 3px 1px rgba(60, 64, 67, 0.15);\n",
              "      fill: #174EA6;\n",
              "    }\n",
              "\n",
              "    [theme=dark] .colab-df-convert {\n",
              "      background-color: #3B4455;\n",
              "      fill: #D2E3FC;\n",
              "    }\n",
              "\n",
              "    [theme=dark] .colab-df-convert:hover {\n",
              "      background-color: #434B5C;\n",
              "      box-shadow: 0px 1px 3px 1px rgba(0, 0, 0, 0.15);\n",
              "      filter: drop-shadow(0px 1px 2px rgba(0, 0, 0, 0.3));\n",
              "      fill: #FFFFFF;\n",
              "    }\n",
              "  </style>\n",
              "\n",
              "      <script>\n",
              "        const buttonEl =\n",
              "          document.querySelector('#df-8c711513-f911-4bb5-9ddc-2d1ad020e052 button.colab-df-convert');\n",
              "        buttonEl.style.display =\n",
              "          google.colab.kernel.accessAllowed ? 'block' : 'none';\n",
              "\n",
              "        async function convertToInteractive(key) {\n",
              "          const element = document.querySelector('#df-8c711513-f911-4bb5-9ddc-2d1ad020e052');\n",
              "          const dataTable =\n",
              "            await google.colab.kernel.invokeFunction('convertToInteractive',\n",
              "                                                     [key], {});\n",
              "          if (!dataTable) return;\n",
              "\n",
              "          const docLinkHtml = 'Like what you see? Visit the ' +\n",
              "            '<a target=\"_blank\" href=https://colab.research.google.com/notebooks/data_table.ipynb>data table notebook</a>'\n",
              "            + ' to learn more about interactive tables.';\n",
              "          element.innerHTML = '';\n",
              "          dataTable['output_type'] = 'display_data';\n",
              "          await google.colab.output.renderOutput(dataTable, element);\n",
              "          const docLink = document.createElement('div');\n",
              "          docLink.innerHTML = docLinkHtml;\n",
              "          element.appendChild(docLink);\n",
              "        }\n",
              "      </script>\n",
              "    </div>\n",
              "  </div>\n",
              "  "
            ],
            "text/plain": [
              "   command_address  response_address  command_memory  response_memory  \\\n",
              "0                4                 4             183              233   \n",
              "1                2                 4             183              233   \n",
              "2                4                 4             183              233   \n",
              "3                4                 4             183              233   \n",
              "4                5                 4             183              233   \n",
              "\n",
              "   command_memory_count  response_memory_count  comm_read_function  \\\n",
              "0                     9                     18                   3   \n",
              "1                     9                     18                   3   \n",
              "2                     9                     18                   3   \n",
              "3                     9                     18                   3   \n",
              "4                     9                     18                   3   \n",
              "\n",
              "   comm_write_fun  resp_read_fun  resp_write_fun  ...  rate  setpoint  \\\n",
              "0              10            3.0            10.0  ...   0.0      20.0   \n",
              "1              10            3.0            10.0  ...   0.0      20.0   \n",
              "2              10            3.0            10.0  ...   0.0      20.0   \n",
              "3              10            3.0            10.0  ...   0.0      20.0   \n",
              "4              10            3.0            10.0  ...   0.0      20.0   \n",
              "\n",
              "   control_mode  control_scheme  pump  solenoid  crc_rate  measurement  \\\n",
              "0           2.0             1.0   0.0       0.0       0.0     0.517241   \n",
              "1           2.0             1.0   0.0       0.0       0.0     0.528736   \n",
              "2           2.0             1.0   0.0       0.0       0.0     0.528736   \n",
              "3           2.0             1.0   0.0       0.0       0.0     0.540230   \n",
              "4           2.0             1.0   0.0       0.0       0.0     0.540230   \n",
              "\n",
              "       time  result  \n",
              "0  1.029393     0.0  \n",
              "1  1.069859     6.0  \n",
              "2  1.244466     0.0  \n",
              "3  1.251695     0.0  \n",
              "4  1.123325     6.0  \n",
              "\n",
              "[5 rows x 27 columns]"
            ]
          },
          "execution_count": 3,
          "metadata": {},
          "output_type": "execute_result"
        }
      ],
      "source": [
        "df.head()"
      ]
    },
    {
      "cell_type": "code",
      "execution_count": null,
      "metadata": {
        "colab": {
          "base_uri": "https://localhost:8080/"
        },
        "id": "BpZYEzyT3Sfx",
        "outputId": "c120a31b-1ea9-4a9e-99b5-33678e3ddfe1"
      },
      "outputs": [
        {
          "data": {
            "text/plain": [
              "command_address          0\n",
              "response_address         0\n",
              "command_memory           0\n",
              "response_memory          0\n",
              "command_memory_count     0\n",
              "response_memory_count    0\n",
              "comm_read_function       0\n",
              "comm_write_fun           0\n",
              "resp_read_fun            1\n",
              "resp_write_fun           1\n",
              "sub_function             1\n",
              "command_length           1\n",
              "resp_length              1\n",
              "gain                     1\n",
              "reset                    1\n",
              "deadband                 1\n",
              "cycletime                1\n",
              "rate                     1\n",
              "setpoint                 1\n",
              "control_mode             1\n",
              "control_scheme           1\n",
              "pump                     1\n",
              "solenoid                 1\n",
              "crc_rate                 1\n",
              "measurement              1\n",
              "time                     1\n",
              "result                   1\n",
              "dtype: int64"
            ]
          },
          "execution_count": 4,
          "metadata": {},
          "output_type": "execute_result"
        }
      ],
      "source": [
        "df.isnull().sum()"
      ]
    },
    {
      "cell_type": "code",
      "execution_count": null,
      "metadata": {
        "id": "h84tlEov8DRF"
      },
      "outputs": [],
      "source": [
        "df = df.dropna()"
      ]
    },
    {
      "cell_type": "code",
      "execution_count": null,
      "metadata": {
        "id": "85OjNtQP2PAJ"
      },
      "outputs": [],
      "source": [
        "X = df.drop(['result'],axis=1)\n",
        "y = df['result']"
      ]
    },
    {
      "cell_type": "code",
      "execution_count": null,
      "metadata": {
        "id": "blQJqs-2JDp4"
      },
      "outputs": [],
      "source": [
        "import imblearn\n",
        "# import library\n",
        "from collections import Counter\n",
        "from imblearn.under_sampling import RandomUnderSampler\n",
        "\n",
        "rus = RandomUnderSampler(random_state=60, replacement=True)# fit predictor and target variable\n",
        "X_rus, y_rus = rus.fit_resample(X, y)\n",
        "\n",
        "print('original dataset shape:', Counter(y))\n",
        "print('Resample dataset shape', Counter(y_rus))"
      ]
    },
    {
      "cell_type": "code",
      "execution_count": null,
      "metadata": {
        "colab": {
          "base_uri": "https://localhost:8080/",
          "height": 299
        },
        "id": "7RBy-XoW2tKv",
        "outputId": "dd9810d9-363a-414d-cb3c-2eb83811b95c"
      },
      "outputs": [
        {
          "data": {
            "text/html": [
              "\n",
              "  <div id=\"df-bc7fd133-eeb6-4a5b-9518-33f0c4ec9642\">\n",
              "    <div class=\"colab-df-container\">\n",
              "      <div>\n",
              "<style scoped>\n",
              "    .dataframe tbody tr th:only-of-type {\n",
              "        vertical-align: middle;\n",
              "    }\n",
              "\n",
              "    .dataframe tbody tr th {\n",
              "        vertical-align: top;\n",
              "    }\n",
              "\n",
              "    .dataframe thead th {\n",
              "        text-align: right;\n",
              "    }\n",
              "</style>\n",
              "<table border=\"1\" class=\"dataframe\">\n",
              "  <thead>\n",
              "    <tr style=\"text-align: right;\">\n",
              "      <th></th>\n",
              "      <th>command_address</th>\n",
              "      <th>response_address</th>\n",
              "      <th>command_memory</th>\n",
              "      <th>response_memory</th>\n",
              "      <th>command_memory_count</th>\n",
              "      <th>response_memory_count</th>\n",
              "      <th>comm_read_function</th>\n",
              "      <th>comm_write_fun</th>\n",
              "      <th>resp_read_fun</th>\n",
              "      <th>resp_write_fun</th>\n",
              "      <th>...</th>\n",
              "      <th>cycletime</th>\n",
              "      <th>rate</th>\n",
              "      <th>setpoint</th>\n",
              "      <th>control_mode</th>\n",
              "      <th>control_scheme</th>\n",
              "      <th>pump</th>\n",
              "      <th>solenoid</th>\n",
              "      <th>crc_rate</th>\n",
              "      <th>measurement</th>\n",
              "      <th>time</th>\n",
              "    </tr>\n",
              "  </thead>\n",
              "  <tbody>\n",
              "    <tr>\n",
              "      <th>0</th>\n",
              "      <td>4</td>\n",
              "      <td>4</td>\n",
              "      <td>183</td>\n",
              "      <td>233</td>\n",
              "      <td>9</td>\n",
              "      <td>18</td>\n",
              "      <td>3</td>\n",
              "      <td>10</td>\n",
              "      <td>3</td>\n",
              "      <td>10</td>\n",
              "      <td>...</td>\n",
              "      <td>1</td>\n",
              "      <td>0</td>\n",
              "      <td>20</td>\n",
              "      <td>2</td>\n",
              "      <td>1</td>\n",
              "      <td>0</td>\n",
              "      <td>0</td>\n",
              "      <td>0</td>\n",
              "      <td>0.609195</td>\n",
              "      <td>1.153153</td>\n",
              "    </tr>\n",
              "    <tr>\n",
              "      <th>1</th>\n",
              "      <td>4</td>\n",
              "      <td>4</td>\n",
              "      <td>183</td>\n",
              "      <td>233</td>\n",
              "      <td>9</td>\n",
              "      <td>18</td>\n",
              "      <td>3</td>\n",
              "      <td>10</td>\n",
              "      <td>1</td>\n",
              "      <td>10</td>\n",
              "      <td>...</td>\n",
              "      <td>1</td>\n",
              "      <td>0</td>\n",
              "      <td>20</td>\n",
              "      <td>0</td>\n",
              "      <td>1</td>\n",
              "      <td>0</td>\n",
              "      <td>0</td>\n",
              "      <td>0</td>\n",
              "      <td>0.229885</td>\n",
              "      <td>1.297467</td>\n",
              "    </tr>\n",
              "    <tr>\n",
              "      <th>2</th>\n",
              "      <td>4</td>\n",
              "      <td>4</td>\n",
              "      <td>183</td>\n",
              "      <td>233</td>\n",
              "      <td>9</td>\n",
              "      <td>18</td>\n",
              "      <td>3</td>\n",
              "      <td>10</td>\n",
              "      <td>3</td>\n",
              "      <td>10</td>\n",
              "      <td>...</td>\n",
              "      <td>1</td>\n",
              "      <td>0</td>\n",
              "      <td>20</td>\n",
              "      <td>0</td>\n",
              "      <td>1</td>\n",
              "      <td>0</td>\n",
              "      <td>0</td>\n",
              "      <td>0</td>\n",
              "      <td>0.459770</td>\n",
              "      <td>1.189089</td>\n",
              "    </tr>\n",
              "    <tr>\n",
              "      <th>3</th>\n",
              "      <td>4</td>\n",
              "      <td>4</td>\n",
              "      <td>183</td>\n",
              "      <td>233</td>\n",
              "      <td>9</td>\n",
              "      <td>18</td>\n",
              "      <td>3</td>\n",
              "      <td>10</td>\n",
              "      <td>3</td>\n",
              "      <td>10</td>\n",
              "      <td>...</td>\n",
              "      <td>1</td>\n",
              "      <td>0</td>\n",
              "      <td>20</td>\n",
              "      <td>0</td>\n",
              "      <td>1</td>\n",
              "      <td>0</td>\n",
              "      <td>0</td>\n",
              "      <td>0</td>\n",
              "      <td>0.482759</td>\n",
              "      <td>1.097396</td>\n",
              "    </tr>\n",
              "    <tr>\n",
              "      <th>4</th>\n",
              "      <td>4</td>\n",
              "      <td>4</td>\n",
              "      <td>183</td>\n",
              "      <td>233</td>\n",
              "      <td>9</td>\n",
              "      <td>18</td>\n",
              "      <td>3</td>\n",
              "      <td>10</td>\n",
              "      <td>3</td>\n",
              "      <td>10</td>\n",
              "      <td>...</td>\n",
              "      <td>1</td>\n",
              "      <td>0</td>\n",
              "      <td>20</td>\n",
              "      <td>0</td>\n",
              "      <td>1</td>\n",
              "      <td>0</td>\n",
              "      <td>0</td>\n",
              "      <td>0</td>\n",
              "      <td>0.229885</td>\n",
              "      <td>1.011971</td>\n",
              "    </tr>\n",
              "  </tbody>\n",
              "</table>\n",
              "<p>5 rows × 26 columns</p>\n",
              "</div>\n",
              "      <button class=\"colab-df-convert\" onclick=\"convertToInteractive('df-bc7fd133-eeb6-4a5b-9518-33f0c4ec9642')\"\n",
              "              title=\"Convert this dataframe to an interactive table.\"\n",
              "              style=\"display:none;\">\n",
              "        \n",
              "  <svg xmlns=\"http://www.w3.org/2000/svg\" height=\"24px\"viewBox=\"0 0 24 24\"\n",
              "       width=\"24px\">\n",
              "    <path d=\"M0 0h24v24H0V0z\" fill=\"none\"/>\n",
              "    <path d=\"M18.56 5.44l.94 2.06.94-2.06 2.06-.94-2.06-.94-.94-2.06-.94 2.06-2.06.94zm-11 1L8.5 8.5l.94-2.06 2.06-.94-2.06-.94L8.5 2.5l-.94 2.06-2.06.94zm10 10l.94 2.06.94-2.06 2.06-.94-2.06-.94-.94-2.06-.94 2.06-2.06.94z\"/><path d=\"M17.41 7.96l-1.37-1.37c-.4-.4-.92-.59-1.43-.59-.52 0-1.04.2-1.43.59L10.3 9.45l-7.72 7.72c-.78.78-.78 2.05 0 2.83L4 21.41c.39.39.9.59 1.41.59.51 0 1.02-.2 1.41-.59l7.78-7.78 2.81-2.81c.8-.78.8-2.07 0-2.86zM5.41 20L4 18.59l7.72-7.72 1.47 1.35L5.41 20z\"/>\n",
              "  </svg>\n",
              "      </button>\n",
              "      \n",
              "  <style>\n",
              "    .colab-df-container {\n",
              "      display:flex;\n",
              "      flex-wrap:wrap;\n",
              "      gap: 12px;\n",
              "    }\n",
              "\n",
              "    .colab-df-convert {\n",
              "      background-color: #E8F0FE;\n",
              "      border: none;\n",
              "      border-radius: 50%;\n",
              "      cursor: pointer;\n",
              "      display: none;\n",
              "      fill: #1967D2;\n",
              "      height: 32px;\n",
              "      padding: 0 0 0 0;\n",
              "      width: 32px;\n",
              "    }\n",
              "\n",
              "    .colab-df-convert:hover {\n",
              "      background-color: #E2EBFA;\n",
              "      box-shadow: 0px 1px 2px rgba(60, 64, 67, 0.3), 0px 1px 3px 1px rgba(60, 64, 67, 0.15);\n",
              "      fill: #174EA6;\n",
              "    }\n",
              "\n",
              "    [theme=dark] .colab-df-convert {\n",
              "      background-color: #3B4455;\n",
              "      fill: #D2E3FC;\n",
              "    }\n",
              "\n",
              "    [theme=dark] .colab-df-convert:hover {\n",
              "      background-color: #434B5C;\n",
              "      box-shadow: 0px 1px 3px 1px rgba(0, 0, 0, 0.15);\n",
              "      filter: drop-shadow(0px 1px 2px rgba(0, 0, 0, 0.3));\n",
              "      fill: #FFFFFF;\n",
              "    }\n",
              "  </style>\n",
              "\n",
              "      <script>\n",
              "        const buttonEl =\n",
              "          document.querySelector('#df-bc7fd133-eeb6-4a5b-9518-33f0c4ec9642 button.colab-df-convert');\n",
              "        buttonEl.style.display =\n",
              "          google.colab.kernel.accessAllowed ? 'block' : 'none';\n",
              "\n",
              "        async function convertToInteractive(key) {\n",
              "          const element = document.querySelector('#df-bc7fd133-eeb6-4a5b-9518-33f0c4ec9642');\n",
              "          const dataTable =\n",
              "            await google.colab.kernel.invokeFunction('convertToInteractive',\n",
              "                                                     [key], {});\n",
              "          if (!dataTable) return;\n",
              "\n",
              "          const docLinkHtml = 'Like what you see? Visit the ' +\n",
              "            '<a target=\"_blank\" href=https://colab.research.google.com/notebooks/data_table.ipynb>data table notebook</a>'\n",
              "            + ' to learn more about interactive tables.';\n",
              "          element.innerHTML = '';\n",
              "          dataTable['output_type'] = 'display_data';\n",
              "          await google.colab.output.renderOutput(dataTable, element);\n",
              "          const docLink = document.createElement('div');\n",
              "          docLink.innerHTML = docLinkHtml;\n",
              "          element.appendChild(docLink);\n",
              "        }\n",
              "      </script>\n",
              "    </div>\n",
              "  </div>\n",
              "  "
            ],
            "text/plain": [
              "   command_address  response_address  command_memory  response_memory  \\\n",
              "0                4                 4             183              233   \n",
              "1                4                 4             183              233   \n",
              "2                4                 4             183              233   \n",
              "3                4                 4             183              233   \n",
              "4                4                 4             183              233   \n",
              "\n",
              "   command_memory_count  response_memory_count  comm_read_function  \\\n",
              "0                     9                     18                   3   \n",
              "1                     9                     18                   3   \n",
              "2                     9                     18                   3   \n",
              "3                     9                     18                   3   \n",
              "4                     9                     18                   3   \n",
              "\n",
              "   comm_write_fun  resp_read_fun  resp_write_fun  ...  cycletime  rate  \\\n",
              "0              10              3              10  ...          1     0   \n",
              "1              10              1              10  ...          1     0   \n",
              "2              10              3              10  ...          1     0   \n",
              "3              10              3              10  ...          1     0   \n",
              "4              10              3              10  ...          1     0   \n",
              "\n",
              "   setpoint  control_mode  control_scheme  pump  solenoid  crc_rate  \\\n",
              "0        20             2               1     0         0         0   \n",
              "1        20             0               1     0         0         0   \n",
              "2        20             0               1     0         0         0   \n",
              "3        20             0               1     0         0         0   \n",
              "4        20             0               1     0         0         0   \n",
              "\n",
              "   measurement      time  \n",
              "0     0.609195  1.153153  \n",
              "1     0.229885  1.297467  \n",
              "2     0.459770  1.189089  \n",
              "3     0.482759  1.097396  \n",
              "4     0.229885  1.011971  \n",
              "\n",
              "[5 rows x 26 columns]"
            ]
          },
          "execution_count": 5,
          "metadata": {},
          "output_type": "execute_result"
        }
      ],
      "source": [
        "\n",
        "X_rus.head()"
      ]
    },
    {
      "cell_type": "code",
      "execution_count": null,
      "metadata": {
        "colab": {
          "base_uri": "https://localhost:8080/"
        },
        "id": "oYGmv5RV2hCy",
        "outputId": "a9abe1ec-42b3-455c-850b-d582c5814180"
      },
      "outputs": [
        {
          "data": {
            "text/plain": [
              "0    0\n",
              "1    0\n",
              "2    0\n",
              "3    0\n",
              "4    0\n",
              "Name: result, dtype: int64"
            ]
          },
          "execution_count": 6,
          "metadata": {},
          "output_type": "execute_result"
        }
      ],
      "source": [
        "y_rus.head()"
      ]
    },
    {
      "cell_type": "code",
      "execution_count": null,
      "metadata": {
        "colab": {
          "base_uri": "https://localhost:8080/"
        },
        "id": "06kMam3OJ-HS",
        "outputId": "5a997f92-4da7-4d90-e331-b6d5c3d4eafd"
      },
      "outputs": [
        {
          "data": {
            "text/plain": [
              "(4584, 26)"
            ]
          },
          "execution_count": 7,
          "metadata": {},
          "output_type": "execute_result"
        }
      ],
      "source": [
        "X_rus.shape"
      ]
    },
    {
      "cell_type": "code",
      "execution_count": null,
      "metadata": {
        "colab": {
          "base_uri": "https://localhost:8080/"
        },
        "id": "Zty7lfCSKAsS",
        "outputId": "21acfcd9-478a-4326-ea6a-c16a97c5b20b"
      },
      "outputs": [
        {
          "data": {
            "text/plain": [
              "(4584,)"
            ]
          },
          "execution_count": 8,
          "metadata": {},
          "output_type": "execute_result"
        }
      ],
      "source": [
        "y_rus.shape"
      ]
    },
    {
      "cell_type": "code",
      "execution_count": null,
      "metadata": {
        "colab": {
          "base_uri": "https://localhost:8080/"
        },
        "id": "KCk5P4TV2tRK",
        "outputId": "dfb78614-68a2-417c-92d4-b0bc082d6c4b"
      },
      "outputs": [
        {
          "data": {
            "text/plain": [
              "(97012, 27)"
            ]
          },
          "execution_count": 9,
          "metadata": {},
          "output_type": "execute_result"
        }
      ],
      "source": [
        "df.shape"
      ]
    },
    {
      "cell_type": "code",
      "execution_count": null,
      "metadata": {
        "colab": {
          "background_save": true
        },
        "id": "XNtXHKBB2lsm"
      },
      "outputs": [],
      "source": [
        "X_train,X_test,y_train,y_test=train_test_split(X_rus,y_rus,test_size=0.3,random_state=1)\n"
      ]
    },
    {
      "cell_type": "code",
      "execution_count": null,
      "metadata": {
        "id": "2RNpcdmd3oPb"
      },
      "outputs": [],
      "source": [
        "import xgboost as xgb\n",
        "model = xgb.XGBClassifier(random_state=0)"
      ]
    },
    {
      "cell_type": "code",
      "execution_count": null,
      "metadata": {
        "colab": {
          "base_uri": "https://localhost:8080/"
        },
        "id": "J3vRuFrc3x_v",
        "outputId": "6e58c4e8-dcb2-48fe-951f-3fe05178f447"
      },
      "outputs": [
        {
          "data": {
            "text/plain": [
              "XGBClassifier(objective='multi:softprob')"
            ]
          },
          "execution_count": 35,
          "metadata": {},
          "output_type": "execute_result"
        }
      ],
      "source": [
        "model.fit(X_train,y_train)"
      ]
    },
    {
      "cell_type": "code",
      "execution_count": null,
      "metadata": {
        "id": "p8gQrTOz31MB"
      },
      "outputs": [],
      "source": [
        "model = XGBClassifier(base_score=0.5, booster='gbtree', colsample_bylevel=1,\n",
        "              colsample_bynode=1, colsample_bytree=1, eval_metric='mlogloss',\n",
        "              gamma=0, gpu_id=1, importance_type='gain',\n",
        "              interaction_constraints='', learning_rate=0.300000012,\n",
        "              max_delta_step=0, max_depth=6, min_child_weight=1,\n",
        "               n_estimators=100, n_jobs=16,\n",
        "              num_parallel_tree=1, objective='multi:softprob', random_state=0,\n",
        "              reg_alpha=0, reg_lambda=1, scale_pos_weight=None, subsample=1,\n",
        "              tree_method='exact', use_label_encoder=False,\n",
        "              validate_parameters=1, verbosity=1)"
      ]
    },
    {
      "cell_type": "markdown",
      "metadata": {
        "id": "7bejV5C6rrZA"
      },
      "source": [
        "monotone_constraints='()'\n",
        "model = XGBClassifier(use_label_enocer=False, eval_metrics='mlogloss',random_state=0)"
      ]
    },
    {
      "cell_type": "code",
      "execution_count": null,
      "metadata": {
        "id": "5GvR0gIg39bN"
      },
      "outputs": [],
      "source": [
        "y_pred = model.predict(X_test)"
      ]
    },
    {
      "cell_type": "code",
      "execution_count": null,
      "metadata": {
        "colab": {
          "base_uri": "https://localhost:8080/"
        },
        "id": "cYHkRFiT4BMG",
        "outputId": "63a07ca8-ec6c-4f5a-cfeb-e60bc5ab9905"
      },
      "outputs": [
        {
          "data": {
            "text/plain": [
              "array([6, 2, 5, ..., 0, 2, 0])"
            ]
          },
          "execution_count": 31,
          "metadata": {},
          "output_type": "execute_result"
        }
      ],
      "source": [
        "y_pred"
      ]
    },
    {
      "cell_type": "code",
      "execution_count": null,
      "metadata": {
        "id": "RG8yyGpib-Su"
      },
      "outputs": [],
      "source": [
        "\n",
        "\n",
        "y_score = model.predict_proba(X_test)"
      ]
    },
    {
      "cell_type": "code",
      "execution_count": null,
      "metadata": {
        "colab": {
          "base_uri": "https://localhost:8080/",
          "height": 348
        },
        "id": "XB2SZowXceMZ",
        "outputId": "cadc2e12-02bd-439b-d73b-a33ca10ed160"
      },
      "outputs": [
        {
          "name": "stdout",
          "output_type": "stream",
          "text": [
            "Accuracy:  0.9789244186046512\n",
            "Precision: 0.9796\n",
            "Recall: 0.9796\n",
            "F1 Score: 0.9794\n"
          ]
        },
        {
          "data": {
            "image/png": "[encoded data removed]",
            "text/plain": [
              "<Figure size 432x288 with 2 Axes>"
            ]
          },
          "metadata": {},
          "output_type": "display_data"
        }
      ],
      "source": [
        "#import scikit-learn metric module for accuracy calculation\n",
        "from sklearn import metrics\n",
        "import matplotlib.pyplot as plt\n",
        "confusion_matrix = metrics.confusion_matrix(y_test,y_pred)\n",
        "print(\"Accuracy: \", metrics.accuracy_score(y_test,y_pred))\n",
        "print('Precision: %.4f' % precision_score(y_test, y_pred, average='macro'))\n",
        "print('Recall: %.4f' % recall_score(y_test, y_pred,average = 'macro'))\n",
        "print('F1 Score: %.4f' % f1_score(y_test, y_pred, average ='macro'))\n",
        "cm_display = metrics.ConfusionMatrixDisplay(confusion_matrix = confusion_matrix, display_labels = ['NMRI','CMRI','MSCI','MPCI','MFCI','DoS','Recon.','no attack'])\n",
        "cm_display.plot()\n",
        "plt.show()\n"
      ]
    },
    {
      "cell_type": "code",
      "execution_count": null,
      "metadata": {
        "colab": {
          "base_uri": "https://localhost:8080/"
        },
        "id": "bWqEj8FxygVs",
        "outputId": "3087882a-209b-4074-e0d8-d6ce30082a8d"
      },
      "outputs": [
        {
          "name": "stdout",
          "output_type": "stream",
          "text": [
            "              precision    recall  f1-score   support\n",
            "\n",
            "           0      0.920     0.961     0.940       180\n",
            "           1      0.994     0.967     0.981       183\n",
            "           2      0.993     1.000     0.997       151\n",
            "           3      0.982     0.994     0.988       162\n",
            "           4      0.947     0.976     0.961       165\n",
            "           5      1.000     0.962     0.981       183\n",
            "           6      1.000     0.978     0.989       178\n",
            "           7      1.000     1.000     1.000       174\n",
            "\n",
            "    accuracy                          0.979      1376\n",
            "   macro avg      0.980     0.980     0.979      1376\n",
            "weighted avg      0.980     0.979     0.979      1376\n",
            "\n"
          ]
        }
      ],
      "source": [
        "from sklearn import metrics\n",
        "print(metrics.classification_report(y_test, y_pred, digits=3))"
      ]
    },
    {
      "cell_type": "code",
      "execution_count": null,
      "metadata": {
        "colab": {
          "base_uri": "https://localhost:8080/"
        },
        "id": "HxpZDxiPLtqn",
        "outputId": "0a77776f-d9b3-4fb6-f61a-625f17efa3ce"
      },
      "outputs": [
        {
          "name": "stdout",
          "output_type": "stream",
          "text": [
            "0.9796482107355042\n",
            "0.9969875750388911\n"
          ]
        }
      ],
      "source": [
        "from importlib import import_module\n",
        "import numpy as np\n",
        "FP = confusion_matrix.sum(axis=0) - np.diag(confusion_matrix)\n",
        "FN = confusion_matrix.sum(axis=1) - np.diag(confusion_matrix)\n",
        "TP = np.diag(confusion_matrix)\n",
        "TN = confusion_matrix.sum() - (FP + FN + TP)\n",
        "FP = FP.astype(float)\n",
        "FN = FN.astype(float)\n",
        "TP = TP.astype(float)\n",
        "TN = TN.astype(float)\n",
        "# Sensitivity, hit rate, recall, or true positive rate\n",
        "TPR = TP/(TP+FN)\n",
        "# Specificity or true negative rate\n",
        "TNR = TN/(TN+FP)\n",
        "from statistics import mean\n",
        "print(mean(TPR))\n",
        "print(mean(TNR))"
      ]
    },
    {
      "cell_type": "code",
      "execution_count": null,
      "metadata": {
        "colab": {
          "base_uri": "https://localhost:8080/"
        },
        "id": "dHK6858nb0pu",
        "outputId": "49071c87-5d8d-4d76-9af9-c7123582633f"
      },
      "outputs": [
        {
          "data": {
            "text/plain": [
              "0.9982911606027903"
            ]
          },
          "execution_count": 79,
          "metadata": {},
          "output_type": "execute_result"
        }
      ],
      "source": [
        "from sklearn.metrics import roc_auc_score\n",
        "y_score = model.predict_proba(X_test)\n",
        "roc_auc_score(y_test,y_score, multi_class='ovo')"
      ]
    },
    {
      "cell_type": "markdown",
      "metadata": {
        "id": "crIPlS1t1Ccl"
      },
      "source": [
        "\n",
        "**RANDOM FOREST**\n"
      ]
    },
    {
      "cell_type": "code",
      "execution_count": null,
      "metadata": {
        "id": "W-Wum4C27-Tz"
      },
      "outputs": [],
      "source": [
        "#import Random Forest Model\n",
        "from sklearn.ensemble import RandomForestClassifier\n",
        "\n",
        "clf = RandomForestClassifier(n_estimators=100)\n",
        "\n",
        "clf.fit(X_train,y_train)\n",
        "\n",
        "y_pred = clf.predict(X_test)"
      ]
    },
    {
      "cell_type": "code",
      "execution_count": null,
      "metadata": {
        "colab": {
          "base_uri": "https://localhost:8080/",
          "height": 348
        },
        "id": "BxfCOSSo8V_w",
        "outputId": "c61419cf-d99b-42f8-8521-5dcd5369ba11"
      },
      "outputs": [
        {
          "name": "stdout",
          "output_type": "stream",
          "text": [
            "Accuracy:  0.9723837209302325\n",
            "Precision: 0.9734\n",
            "Recall: 0.9733\n",
            "F1 Score: 0.9732\n"
          ]
        },
        {
          "data": {
            "image/png": "[encoded data removed]",
            "text/plain": [
              "<Figure size 432x288 with 2 Axes>"
            ]
          },
          "metadata": {},
          "output_type": "display_data"
        }
      ],
      "source": [
        "#import scikit-learn metric module for accuracy calculation\n",
        "from sklearn import metrics\n",
        "import matplotlib.pyplot as plt\n",
        "confusion_matrix = metrics.confusion_matrix(y_test,y_pred)\n",
        "print(\"Accuracy: \", metrics.accuracy_score(y_test,y_pred))\n",
        "print('Precision: %.4f' % precision_score(y_test, y_pred, average='macro'))\n",
        "print('Recall: %.4f' % recall_score(y_test, y_pred,average = 'macro'))\n",
        "print('F1 Score: %.4f' % f1_score(y_test, y_pred, average ='macro'))\n",
        "cm_display = metrics.ConfusionMatrixDisplay(confusion_matrix = confusion_matrix, display_labels = ['NMRI','CMRI','MSCI','MPCI','MFCI','DoS','Recon.','no attack'])\n",
        "cm_display.plot()\n",
        "plt.show()\n"
      ]
    },
    {
      "cell_type": "code",
      "execution_count": null,
      "metadata": {
        "colab": {
          "base_uri": "https://localhost:8080/"
        },
        "id": "PAHwv8ZbdLqZ",
        "outputId": "b87c0d4b-9ff5-4274-ffc1-784ba9b6d5cf"
      },
      "outputs": [
        {
          "name": "stdout",
          "output_type": "stream",
          "text": [
            "              precision    recall  f1-score   support\n",
            "\n",
            "           0      0.898     0.933     0.916       180\n",
            "           1      0.972     0.956     0.964       183\n",
            "           2      0.993     1.000     0.997       151\n",
            "           3      0.982     0.994     0.988       162\n",
            "           4      0.947     0.970     0.958       165\n",
            "           5      0.994     0.967     0.981       183\n",
            "           6      1.000     0.966     0.983       178\n",
            "           7      1.000     1.000     1.000       174\n",
            "\n",
            "    accuracy                          0.972      1376\n",
            "   macro avg      0.973     0.973     0.973      1376\n",
            "weighted avg      0.973     0.972     0.973      1376\n",
            "\n"
          ]
        }
      ],
      "source": [
        "print(metrics.classification_report(y_test, y_pred, digits=3))"
      ]
    },
    {
      "cell_type": "code",
      "execution_count": null,
      "metadata": {
        "colab": {
          "base_uri": "https://localhost:8080/"
        },
        "id": "KdM26-vSdBKT",
        "outputId": "91475cd2-687b-42b3-c682-b4380cb2998a"
      },
      "outputs": [
        {
          "data": {
            "text/plain": [
              "0.9954095665479218"
            ]
          },
          "execution_count": 83,
          "metadata": {},
          "output_type": "execute_result"
        }
      ],
      "source": [
        "from sklearn.metrics import roc_auc_score\n",
        "y_score = clf.predict_proba(X_test)\n",
        "roc_auc_score(y_test,y_score, multi_class='ovo')"
      ]
    },
    {
      "cell_type": "code",
      "execution_count": null,
      "metadata": {
        "colab": {
          "base_uri": "https://localhost:8080/"
        },
        "id": "ypVnSwjVZTC1",
        "outputId": "daa3bd21-3781-47fd-80b5-a9fb578545ba"
      },
      "outputs": [
        {
          "name": "stdout",
          "output_type": "stream",
          "text": [
            "0.9733308582643942\n",
            "0.9960456254836538\n"
          ]
        }
      ],
      "source": [
        "from importlib import import_module\n",
        "import numpy as np\n",
        "FP = confusion_matrix.sum(axis=0) - np.diag(confusion_matrix)\n",
        "FN = confusion_matrix.sum(axis=1) - np.diag(confusion_matrix)\n",
        "TP = np.diag(confusion_matrix)\n",
        "TN = confusion_matrix.sum() - (FP + FN + TP)\n",
        "FP = FP.astype(float)\n",
        "FN = FN.astype(float)\n",
        "TP = TP.astype(float)\n",
        "TN = TN.astype(float)\n",
        "# Sensitivity, hit rate, recall, or true positive rate\n",
        "TPR = TP/(TP+FN)\n",
        "# Specificity or true negative rate\n",
        "TNR = TN/(TN+FP)\n",
        "from statistics import mean\n",
        "print(mean(TPR))\n",
        "print(mean(TNR))"
      ]
    },
    {
      "cell_type": "code",
      "execution_count": null,
      "metadata": {
        "id": "3mFGagKrMA3S"
      },
      "outputs": [],
      "source": [
        "# Importing required libraries\n",
        "from seaborn import load_dataset, pairplot\n",
        "import matplotlib.pyplot as plt\n",
        "import pandas as pd\n",
        "import sklearn\n",
        "from sklearn.svm import SVC\n",
        "from sklearn.model_selection import train_test_split\n",
        "from sklearn.metrics import accuracy_score"
      ]
    },
    {
      "cell_type": "markdown",
      "metadata": {
        "id": "YgAoIVpBMVuS"
      },
      "source": [
        "**BAGGING**"
      ]
    },
    {
      "cell_type": "code",
      "execution_count": null,
      "metadata": {
        "id": "FASJrRtvOAaj"
      },
      "outputs": [],
      "source": [
        "from sklearn import tree\n",
        "from sklearn import model_selection\n",
        "from sklearn.ensemble import BaggingClassifier\n",
        "from sklearn.tree import DecisionTreeClassifier\n",
        "import pandas as pd\n",
        "from sklearn.model_selection import cross_val_score"
      ]
    },
    {
      "cell_type": "code",
      "execution_count": null,
      "metadata": {
        "id": "Ldfr4_DLg33S"
      },
      "outputs": [],
      "source": [
        "bag_model = BaggingClassifier(\n",
        "base_estimator=DecisionTreeClassifier(),\n",
        "n_estimators=100,\n",
        "max_samples=0.8,\n",
        "bootstrap=True,\n",
        "oob_score=True,\n",
        "random_state=0\n",
        ")"
      ]
    },
    {
      "cell_type": "code",
      "execution_count": null,
      "metadata": {
        "colab": {
          "base_uri": "https://localhost:8080/"
        },
        "id": "ugVQ0kIv3lcv",
        "outputId": "ee4b64c4-24e0-44ea-cd71-e4b45bde10f8"
      },
      "outputs": [
        {
          "data": {
            "text/plain": [
              "0.9725095598424709"
            ]
          },
          "execution_count": 88,
          "metadata": {},
          "output_type": "execute_result"
        }
      ],
      "source": [
        "scores = cross_val_score(bag_model, X_rus, y_rus, cv=5)\n",
        "scores.mean()"
      ]
    },
    {
      "cell_type": "code",
      "execution_count": null,
      "metadata": {
        "colab": {
          "base_uri": "https://localhost:8080/"
        },
        "id": "Di-KnCvRg96x",
        "outputId": "fb6a2e9b-2a84-469d-a3ef-9f5ff2d597c2"
      },
      "outputs": [
        {
          "data": {
            "text/plain": [
              "BaggingClassifier(base_estimator=DecisionTreeClassifier(), max_samples=0.8,\n",
              "                  n_estimators=100, oob_score=True, random_state=0)"
            ]
          },
          "execution_count": 89,
          "metadata": {},
          "output_type": "execute_result"
        }
      ],
      "source": [
        "bag_model.fit(X_train, y_train)"
      ]
    },
    {
      "cell_type": "code",
      "execution_count": null,
      "metadata": {
        "colab": {
          "base_uri": "https://localhost:8080/"
        },
        "id": "fVY6VByOg993",
        "outputId": "a340798f-a0cb-4d6f-9d78-fac75bd05bce"
      },
      "outputs": [
        {
          "data": {
            "text/plain": [
              "0.9756857855361596"
            ]
          },
          "execution_count": 90,
          "metadata": {},
          "output_type": "execute_result"
        }
      ],
      "source": [
        "bag_model.oob_score_"
      ]
    },
    {
      "cell_type": "code",
      "execution_count": null,
      "metadata": {
        "colab": {
          "base_uri": "https://localhost:8080/"
        },
        "id": "Pth-6wtYg-Bo",
        "outputId": "59d3ed50-8f18-458f-a410-966a1ac471c1"
      },
      "outputs": [
        {
          "data": {
            "text/plain": [
              "0.9752906976744186"
            ]
          },
          "execution_count": 91,
          "metadata": {},
          "output_type": "execute_result"
        }
      ],
      "source": [
        "bag_model.score(X_test, y_test)"
      ]
    },
    {
      "cell_type": "code",
      "execution_count": null,
      "metadata": {
        "id": "SNdnPH1LrGo6"
      },
      "outputs": [],
      "source": [
        "\n",
        "y_pred = bag_model.predict(X_test)"
      ]
    },
    {
      "cell_type": "code",
      "execution_count": null,
      "metadata": {
        "colab": {
          "base_uri": "https://localhost:8080/"
        },
        "id": "BTKA3CPmZpo1",
        "outputId": "29c8141a-8e91-4487-a661-915ccd2638c1"
      },
      "outputs": [
        {
          "name": "stdout",
          "output_type": "stream",
          "text": [
            "Accuracy:  0.9752906976744186\n",
            "Precision: 0.9762\n",
            "Recall: 0.9762\n",
            "F1 Score: 0.9760\n"
          ]
        }
      ],
      "source": [
        "print(\"Accuracy: \", metrics.accuracy_score(y_test,y_pred))\n",
        "print('Precision: %.4f' % precision_score(y_test, y_pred, average='macro'))\n",
        "print('Recall: %.4f' % recall_score(y_test, y_pred,average = 'macro'))\n",
        "print('F1 Score: %.4f' % f1_score(y_test, y_pred, average ='macro'))"
      ]
    },
    {
      "cell_type": "code",
      "execution_count": null,
      "metadata": {
        "colab": {
          "base_uri": "https://localhost:8080/"
        },
        "id": "5KZVefdThllV",
        "outputId": "0c17d7c9-a810-4cc2-aa69-a96925d85769"
      },
      "outputs": [
        {
          "name": "stdout",
          "output_type": "stream",
          "text": [
            "              precision    recall  f1-score   support\n",
            "\n",
            "           0      0.909     0.944     0.926       180\n",
            "           1      0.983     0.956     0.970       183\n",
            "           2      0.993     1.000     0.997       151\n",
            "           3      0.988     0.994     0.991       162\n",
            "           4      0.936     0.976     0.955       165\n",
            "           5      1.000     0.962     0.981       183\n",
            "           6      1.000     0.978     0.989       178\n",
            "           7      1.000     1.000     1.000       174\n",
            "\n",
            "    accuracy                          0.975      1376\n",
            "   macro avg      0.976     0.976     0.976      1376\n",
            "weighted avg      0.976     0.975     0.975      1376\n",
            "\n"
          ]
        }
      ],
      "source": [
        "print(metrics.classification_report(y_test, y_pred, digits=3))"
      ]
    },
    {
      "cell_type": "code",
      "execution_count": null,
      "metadata": {
        "colab": {
          "base_uri": "https://localhost:8080/",
          "height": 348
        },
        "id": "k07SY7imZMM_",
        "outputId": "f8a41f9a-0e51-490c-cde5-eda04edeaaf5"
      },
      "outputs": [
        {
          "name": "stdout",
          "output_type": "stream",
          "text": [
            "Accuracy:  0.9752906976744186\n",
            "Precision: 0.9762\n",
            "Recall: 0.9762\n",
            "F1 Score: 0.9760\n"
          ]
        },
        {
          "data": {
            "image/png": "[encoded data removed]",
            "text/plain": [
              "<Figure size 432x288 with 2 Axes>"
            ]
          },
          "metadata": {},
          "output_type": "display_data"
        }
      ],
      "source": [
        "#import scikit-learn metric module for accuracy calculation\n",
        "from sklearn import metrics\n",
        "import matplotlib.pyplot as plt\n",
        "confusion_matrix = metrics.confusion_matrix(y_test,y_pred)\n",
        "print(\"Accuracy: \", metrics.accuracy_score(y_test,y_pred))\n",
        "print('Precision: %.4f' % precision_score(y_test, y_pred, average='macro'))\n",
        "print('Recall: %.4f' % recall_score(y_test, y_pred,average = 'macro'))\n",
        "print('F1 Score: %.4f' % f1_score(y_test, y_pred, average ='macro'))\n",
        "cm_display = metrics.ConfusionMatrixDisplay(confusion_matrix = confusion_matrix, display_labels = ['NMRI','CMRI','MSCI','MPCI','MFCI','DoS','Recon.','no attack'])\n",
        "cm_display.plot()\n",
        "plt.show()\n"
      ]
    },
    {
      "cell_type": "code",
      "execution_count": null,
      "metadata": {
        "colab": {
          "base_uri": "https://localhost:8080/"
        },
        "id": "So_whvkxdEbS",
        "outputId": "8306ce37-cfcf-4e78-b33f-93cbc2d7c39f"
      },
      "outputs": [
        {
          "data": {
            "text/plain": [
              "0.9948311420084114"
            ]
          },
          "execution_count": 96,
          "metadata": {},
          "output_type": "execute_result"
        }
      ],
      "source": [
        "from sklearn.metrics import roc_auc_score\n",
        "y_score = bag_model.predict_proba(X_test)\n",
        "roc_auc_score(y_test,y_score, multi_class='ovo')"
      ]
    },
    {
      "cell_type": "code",
      "execution_count": null,
      "metadata": {
        "colab": {
          "base_uri": "https://localhost:8080/"
        },
        "id": "MQfGRK_tZVI3",
        "outputId": "868b31be-d3ef-474a-f751-bf41f0efbbda"
      },
      "outputs": [
        {
          "name": "stdout",
          "output_type": "stream",
          "text": [
            "0.9761987571835917\n",
            "0.9964655136424676\n"
          ]
        }
      ],
      "source": [
        "from importlib import import_module\n",
        "import numpy as np\n",
        "FP = confusion_matrix.sum(axis=0) - np.diag(confusion_matrix)\n",
        "FN = confusion_matrix.sum(axis=1) - np.diag(confusion_matrix)\n",
        "TP = np.diag(confusion_matrix)\n",
        "TN = confusion_matrix.sum() - (FP + FN + TP)\n",
        "FP = FP.astype(float)\n",
        "FN = FN.astype(float)\n",
        "TP = TP.astype(float)\n",
        "TN = TN.astype(float)\n",
        "# Sensitivity, hit rate, recall, or true positive rate\n",
        "TPR = TP/(TP+FN)\n",
        "# Specificity or true negative rate\n",
        "TNR = TN/(TN+FP)\n",
        "from statistics import mean\n",
        "print(mean(TPR))\n",
        "print(mean(TNR))"
      ]
    },
    {
      "cell_type": "markdown",
      "metadata": {
        "id": "qgXVQ6cGjK44"
      },
      "source": [
        "**DECISION TREE**"
      ]
    },
    {
      "cell_type": "code",
      "execution_count": null,
      "metadata": {
        "id": "QGAaGFWp2GD4"
      },
      "outputs": [],
      "source": [
        "model_1 = tree.DecisionTreeClassifier()"
      ]
    },
    {
      "cell_type": "code",
      "execution_count": null,
      "metadata": {
        "colab": {
          "base_uri": "https://localhost:8080/"
        },
        "id": "a4HzmmjQ2Kfk",
        "outputId": "55ebe3a7-c5ce-4fb4-9d81-4c5df514f9e9"
      },
      "outputs": [
        {
          "data": {
            "text/plain": [
              "DecisionTreeClassifier()"
            ]
          },
          "execution_count": 73,
          "metadata": {},
          "output_type": "execute_result"
        }
      ],
      "source": [
        "model_1.fit(X_train, y_train)"
      ]
    },
    {
      "cell_type": "code",
      "execution_count": null,
      "metadata": {
        "id": "CkVECC1k3xAz"
      },
      "outputs": [],
      "source": [
        "y_pred = model_1.predict(X_test)"
      ]
    },
    {
      "cell_type": "code",
      "execution_count": null,
      "metadata": {
        "colab": {
          "base_uri": "https://localhost:8080/"
        },
        "id": "Vsaw0mzP31xJ",
        "outputId": "4f6b3f4a-5009-4033-96e4-0c4f004b4b06"
      },
      "outputs": [
        {
          "name": "stdout",
          "output_type": "stream",
          "text": [
            "Accuracy:  0.9680232558139535\n",
            "Precision: 0.9683\n",
            "Recall: 0.9691\n",
            "F1 Score: 0.9686\n"
          ]
        }
      ],
      "source": [
        "print(\"Accuracy: \", metrics.accuracy_score(y_test,y_pred))\n",
        "print('Precision: %.4f' % precision_score(y_test, y_pred, average='macro'))\n",
        "print('Recall: %.4f' % recall_score(y_test, y_pred,average = 'macro'))\n",
        "print('F1 Score: %.4f' % f1_score(y_test, y_pred, average ='macro'))"
      ]
    },
    {
      "cell_type": "code",
      "execution_count": null,
      "metadata": {
        "colab": {
          "base_uri": "https://localhost:8080/"
        },
        "id": "OzCAEx8Lhzzi",
        "outputId": "8e4e2d24-511c-4e9c-b30a-be2af742a5e5"
      },
      "outputs": [
        {
          "name": "stdout",
          "output_type": "stream",
          "text": [
            "              precision    recall  f1-score   support\n",
            "\n",
            "           0      0.905     0.900     0.903       180\n",
            "           1      0.978     0.956     0.967       183\n",
            "           2      0.981     1.000     0.990       151\n",
            "           3      0.982     0.994     0.988       162\n",
            "           4      0.929     0.958     0.943       165\n",
            "           5      0.989     0.962     0.975       183\n",
            "           6      0.983     0.983     0.983       178\n",
            "           7      1.000     1.000     1.000       174\n",
            "\n",
            "    accuracy                          0.968      1376\n",
            "   macro avg      0.968     0.969     0.969      1376\n",
            "weighted avg      0.968     0.968     0.968      1376\n",
            "\n"
          ]
        }
      ],
      "source": [
        "print(metrics.classification_report(y_test, y_pred, digits=3))"
      ]
    },
    {
      "cell_type": "code",
      "execution_count": null,
      "metadata": {
        "colab": {
          "base_uri": "https://localhost:8080/"
        },
        "id": "4eW9xznKdHPq",
        "outputId": "672839b4-16f8-42fa-abeb-9faef0bf0954"
      },
      "outputs": [
        {
          "data": {
            "text/plain": [
              "0.9982911606027903"
            ]
          },
          "execution_count": 77,
          "metadata": {},
          "output_type": "execute_result"
        }
      ],
      "source": [
        "from sklearn.metrics import roc_auc_score\n",
        "y_score = model.predict_proba(X_test)\n",
        "roc_auc_score(y_test,y_score, multi_class='ovo')"
      ]
    },
    {
      "cell_type": "markdown",
      "metadata": {
        "id": "jGVhWKsSDj2h"
      },
      "source": [
        "\n",
        "\n",
        " **C5.0 TREE**\n",
        "\n",
        "---\n",
        "\n"
      ]
    },
    {
      "cell_type": "code",
      "execution_count": null,
      "metadata": {
        "id": "tPgsroYOGVgu"
      },
      "outputs": [],
      "source": [
        "#Importing packages\n",
        "import pandas as pd\n",
        "import matplotlib.pyplot as plt\n",
        "from sklearn.model_selection import train_test_split\n",
        "from sklearn.tree import  DecisionTreeClassifier\n",
        "from sklearn import tree\n",
        "from sklearn.metrics import confusion_matrix, classification_report, accuracy_score\n",
        "from sklearn.preprocessing import StandardScaler\n"
      ]
    },
    {
      "cell_type": "code",
      "execution_count": null,
      "metadata": {
        "colab": {
          "base_uri": "https://localhost:8080/"
        },
        "id": "-jjJUxjv-AK-",
        "outputId": "8bd24f87-f11c-4ba7-a196-20dc90b419fd"
      },
      "outputs": [
        {
          "name": "stdout",
          "output_type": "stream",
          "text": [
            "Fitting 5 folds for each of 90 candidates, totalling 450 fits\n"
          ]
        },
        {
          "data": {
            "text/plain": [
              "GridSearchCV(cv=5, estimator=DecisionTreeClassifier(random_state=1024),\n",
              "             param_grid={'ccp_alpha': [0.1, 0.01, 0.001],\n",
              "                         'criterion': ['gini', 'entropy'],\n",
              "                         'max_depth': [5, 6, 7, 8, 9],\n",
              "                         'max_features': ['auto', 'sqrt', 'log2']},\n",
              "             verbose=True)"
            ]
          },
          "execution_count": 99,
          "metadata": {},
          "output_type": "execute_result"
        }
      ],
      "source": [
        "from sklearn.model_selection import GridSearchCV\n",
        "\n",
        "param_grid = {'max_features': ['auto', 'sqrt', 'log2'],\n",
        "              'ccp_alpha': [0.1, .01, .001],\n",
        "              'max_depth' : [5, 6, 7, 8, 9],\n",
        "              'criterion' :['gini', 'entropy']\n",
        "             }\n",
        "tree_clas = DecisionTreeClassifier(random_state=1024)\n",
        "grid_search = GridSearchCV(estimator=tree_clas, param_grid=param_grid, cv=5, verbose=True)\n",
        "grid_search.fit(X_train, y_train)"
      ]
    },
    {
      "cell_type": "code",
      "execution_count": null,
      "metadata": {
        "colab": {
          "base_uri": "https://localhost:8080/"
        },
        "id": "_TerhNJy-wP1",
        "outputId": "f6ecb24e-45b3-4456-a081-f559aad5840d"
      },
      "outputs": [
        {
          "data": {
            "text/plain": [
              "DecisionTreeClassifier(ccp_alpha=0.001, max_depth=8, max_features='auto',\n",
              "                       random_state=1024)"
            ]
          },
          "execution_count": 100,
          "metadata": {},
          "output_type": "execute_result"
        }
      ],
      "source": [
        "final_model = grid_search.best_estimator_\n",
        "final_model"
      ]
    },
    {
      "cell_type": "code",
      "execution_count": null,
      "metadata": {
        "id": "sGjW0Uvo-12P"
      },
      "outputs": [],
      "source": [
        "\n",
        "tree_clas = DecisionTreeClassifier(ccp_alpha=0.001, criterion='entropy', max_depth=9,\n",
        "                       max_features='log2', random_state=1024)\n",
        "tree_clas.fit(X_train, y_train)\n",
        "y_predict = tree_clas.predict(X_test)"
      ]
    },
    {
      "cell_type": "code",
      "execution_count": null,
      "metadata": {
        "colab": {
          "base_uri": "https://localhost:8080/"
        },
        "id": "6OVHck9cE_RZ",
        "outputId": "cb2f9f76-db59-498f-968d-23212a642afd"
      },
      "outputs": [
        {
          "data": {
            "text/plain": [
              "DecisionTreeClassifier(criterion='entropy', max_depth=3, max_leaf_nodes=7)"
            ]
          },
          "execution_count": 102,
          "metadata": {},
          "output_type": "execute_result"
        }
      ],
      "source": [
        "model = DecisionTreeClassifier(criterion = 'entropy', max_depth=3, max_leaf_nodes=7)\n",
        "model.fit(X_train,y_train)"
      ]
    },
    {
      "cell_type": "code",
      "execution_count": null,
      "metadata": {
        "id": "eTtEl0isaMnj"
      },
      "outputs": [],
      "source": [
        "y_pred = grid_search.predict(X_test)"
      ]
    },
    {
      "cell_type": "code",
      "execution_count": null,
      "metadata": {
        "colab": {
          "base_uri": "https://localhost:8080/",
          "height": 348
        },
        "id": "gTg0ZHzR3ElU",
        "outputId": "d425dca2-8d04-4406-cc44-96e4ffff6c2e"
      },
      "outputs": [
        {
          "name": "stdout",
          "output_type": "stream",
          "text": [
            "Accuracy:  0.9280523255813954\n",
            "Precision: 0.9483\n",
            "Recall: 0.9297\n",
            "F1 Score: 0.9327\n"
          ]
        },
        {
          "data": {
            "image/png": "[encoded data removed]",
            "text/plain": [
              "<Figure size 432x288 with 2 Axes>"
            ]
          },
          "metadata": {},
          "output_type": "display_data"
        }
      ],
      "source": [
        "#import scikit-learn metric module for accuracy calculation\n",
        "from sklearn import metrics\n",
        "import matplotlib.pyplot as plt\n",
        "confusion_matrix = metrics.confusion_matrix(y_test,y_pred)\n",
        "print(\"Accuracy: \", metrics.accuracy_score(y_test,y_pred))\n",
        "print('Precision: %.4f' % precision_score(y_test, y_pred, average='macro'))\n",
        "print('Recall: %.4f' % recall_score(y_test, y_pred,average = 'macro'))\n",
        "print('F1 Score: %.4f' % f1_score(y_test, y_pred, average ='macro'))\n",
        "cm_display = metrics.ConfusionMatrixDisplay(confusion_matrix = confusion_matrix, display_labels = ['NMRI','CMRI','MSCI','MPCI','MFCI','DoS','Recon.','no attack'])\n",
        "cm_display.plot()\n",
        "plt.show()"
      ]
    },
    {
      "cell_type": "code",
      "execution_count": null,
      "metadata": {
        "colab": {
          "base_uri": "https://localhost:8080/"
        },
        "id": "K7X8yNBViSQN",
        "outputId": "b62c3f52-93d5-43da-9606-dff95a96bc48"
      },
      "outputs": [
        {
          "name": "stdout",
          "output_type": "stream",
          "text": [
            "              precision    recall  f1-score   support\n",
            "\n",
            "           0      0.669     0.967     0.791       180\n",
            "           1      1.000     0.902     0.948       183\n",
            "           2      0.974     1.000     0.987       151\n",
            "           3      1.000     0.963     0.981       162\n",
            "           4      0.943     0.903     0.923       165\n",
            "           5      1.000     0.962     0.981       183\n",
            "           6      1.000     0.742     0.852       178\n",
            "           7      1.000     1.000     1.000       174\n",
            "\n",
            "    accuracy                          0.928      1376\n",
            "   macro avg      0.948     0.930     0.933      1376\n",
            "weighted avg      0.947     0.928     0.931      1376\n",
            "\n"
          ]
        }
      ],
      "source": [
        "print(metrics.classification_report(y_test, y_pred, digits=3))"
      ]
    },
    {
      "cell_type": "code",
      "execution_count": null,
      "metadata": {
        "colab": {
          "base_uri": "https://localhost:8080/"
        },
        "id": "HUnjwGVDZXOz",
        "outputId": "f8fb8a74-f4ae-475c-fd53-2705778a1dc9"
      },
      "outputs": [
        {
          "name": "stdout",
          "output_type": "stream",
          "text": [
            "0.9297026180637343\n",
            "0.9896745581098254\n"
          ]
        }
      ],
      "source": [
        "from importlib import import_module\n",
        "import numpy as np\n",
        "FP = confusion_matrix.sum(axis=0) - np.diag(confusion_matrix)\n",
        "FN = confusion_matrix.sum(axis=1) - np.diag(confusion_matrix)\n",
        "TP = np.diag(confusion_matrix)\n",
        "TN = confusion_matrix.sum() - (FP + FN + TP)\n",
        "FP = FP.astype(float)\n",
        "FN = FN.astype(float)\n",
        "TP = TP.astype(float)\n",
        "TN = TN.astype(float)\n",
        "# Sensitivity, hit rate, recall, or true positive rate\n",
        "TPR = TP/(TP+FN)\n",
        "# Specificity or true negative rate\n",
        "TNR = TN/(TN+FP)\n",
        "from statistics import mean\n",
        "print(mean(TPR))\n",
        "print(mean(TNR))"
      ]
    },
    {
      "cell_type": "code",
      "execution_count": null,
      "metadata": {
        "colab": {
          "base_uri": "https://localhost:8080/"
        },
        "id": "InKDDRPrdJTi",
        "outputId": "cde3f007-196e-4a6b-a7c8-171b92245ee6"
      },
      "outputs": [
        {
          "data": {
            "text/plain": [
              "0.8971517669392274"
            ]
          },
          "execution_count": 107,
          "metadata": {},
          "output_type": "execute_result"
        }
      ],
      "source": [
        "from sklearn.metrics import roc_auc_score\n",
        "y_score = model.predict_proba(X_test)\n",
        "roc_auc_score(y_test,y_score, multi_class='ovo')"
      ]
    },
    {
      "cell_type": "markdown",
      "metadata": {
        "id": "49L49pgIqb45"
      },
      "source": [
        "**LDA**"
      ]
    },
    {
      "cell_type": "code",
      "execution_count": null,
      "metadata": {
        "colab": {
          "base_uri": "https://localhost:8080/"
        },
        "id": "nwL9A-N7Gn32",
        "outputId": "4636db66-0bc5-438b-ef75-314d362e7f9c"
      },
      "outputs": [
        {
          "data": {
            "text/plain": [
              "LinearDiscriminantAnalysis()"
            ]
          },
          "execution_count": 108,
          "metadata": {},
          "output_type": "execute_result"
        }
      ],
      "source": [
        "from sklearn.discriminant_analysis import LinearDiscriminantAnalysis\n",
        "model_LDA = LinearDiscriminantAnalysis()\n",
        "model_LDA.fit(X_train, y_train)\n",
        "\n"
      ]
    },
    {
      "cell_type": "code",
      "execution_count": null,
      "metadata": {
        "id": "G7p3zQIOG4Mv"
      },
      "outputs": [],
      "source": [
        "y_pred = model_LDA.predict(X_test)"
      ]
    },
    {
      "cell_type": "code",
      "execution_count": null,
      "metadata": {
        "colab": {
          "base_uri": "https://localhost:8080/",
          "height": 348
        },
        "id": "kb2ziL5iGAbf",
        "outputId": "0232e0a1-e62d-4c5c-b934-93baec5489c5"
      },
      "outputs": [
        {
          "name": "stdout",
          "output_type": "stream",
          "text": [
            "Accuracy:  0.7754360465116279\n",
            "Precision: 0.8097\n",
            "Recall: 0.7856\n",
            "F1 Score: 0.7810\n"
          ]
        },
        {
          "data": {
            "image/png": "[encoded data removed]",
            "text/plain": [
              "<Figure size 432x288 with 2 Axes>"
            ]
          },
          "metadata": {},
          "output_type": "display_data"
        }
      ],
      "source": [
        "#import scikit-learn metric module for accuracy calculation\n",
        "from sklearn import metrics\n",
        "import matplotlib.pyplot as plt\n",
        "confusion_matrix = metrics.confusion_matrix(y_test,y_pred)\n",
        "print(\"Accuracy: \", metrics.accuracy_score(y_test,y_pred))\n",
        "print('Precision: %.4f' % precision_score(y_test, y_pred, average='macro'))\n",
        "print('Recall: %.4f' % recall_score(y_test, y_pred,average = 'macro'))\n",
        "print('F1 Score: %.4f' % f1_score(y_test, y_pred, average ='macro'))\n",
        "cm_display = metrics.ConfusionMatrixDisplay(confusion_matrix = confusion_matrix, display_labels = ['NMRI','CMRI','MSCI','MPCI','MFCI','DoS','Recon.','no attack'])\n",
        "cm_display.plot()\n",
        "plt.show()\n"
      ]
    },
    {
      "cell_type": "code",
      "execution_count": null,
      "metadata": {
        "colab": {
          "base_uri": "https://localhost:8080/"
        },
        "id": "NgIrOFXsrtyk",
        "outputId": "42a0c3de-6db6-4040-d368-84cc22871093"
      },
      "outputs": [
        {
          "name": "stdout",
          "output_type": "stream",
          "text": [
            "              precision    recall  f1-score   support\n",
            "\n",
            "           0      0.428     0.428     0.428       180\n",
            "           1      0.607     0.683     0.643       183\n",
            "           2      0.816     1.000     0.899       151\n",
            "           3      1.000     0.963     0.981       162\n",
            "           4      0.947     0.976     0.961       165\n",
            "           5      1.000     0.628     0.772       183\n",
            "           6      1.000     0.607     0.755       178\n",
            "           7      0.680     1.000     0.809       174\n",
            "\n",
            "    accuracy                          0.775      1376\n",
            "   macro avg      0.810     0.786     0.781      1376\n",
            "weighted avg      0.806     0.775     0.774      1376\n",
            "\n"
          ]
        }
      ],
      "source": [
        "print(metrics.classification_report(y_test, y_pred, digits=3))"
      ]
    },
    {
      "cell_type": "code",
      "execution_count": null,
      "metadata": {
        "colab": {
          "base_uri": "https://localhost:8080/"
        },
        "id": "R_Tg7o1GZYse",
        "outputId": "09db932d-4ab5-44b6-bad7-a0fd031ea67f"
      },
      "outputs": [
        {
          "name": "stdout",
          "output_type": "stream",
          "text": [
            "0.7855894124210112\n",
            "0.9678221159802515\n"
          ]
        }
      ],
      "source": [
        "from importlib import import_module\n",
        "import numpy as np\n",
        "FP = confusion_matrix.sum(axis=0) - np.diag(confusion_matrix)\n",
        "FN = confusion_matrix.sum(axis=1) - np.diag(confusion_matrix)\n",
        "TP = np.diag(confusion_matrix)\n",
        "TN = confusion_matrix.sum() - (FP + FN + TP)\n",
        "FP = FP.astype(float)\n",
        "FN = FN.astype(float)\n",
        "TP = TP.astype(float)\n",
        "TN = TN.astype(float)\n",
        "# Sensitivity, hit rate, recall, or true positive rate\n",
        "TPR = TP/(TP+FN)\n",
        "# Specificity or true negative rate\n",
        "TNR = TN/(TN+FP)\n",
        "from statistics import mean\n",
        "print(mean(TPR))\n",
        "print(mean(TNR))"
      ]
    },
    {
      "cell_type": "code",
      "execution_count": null,
      "metadata": {
        "colab": {
          "base_uri": "https://localhost:8080/"
        },
        "id": "EWof9BQrieAA",
        "outputId": "681d740a-8c97-48c9-fbe6-6b909cb403de"
      },
      "outputs": [
        {
          "data": {
            "text/plain": [
              "0.9575487596495934"
            ]
          },
          "execution_count": 113,
          "metadata": {},
          "output_type": "execute_result"
        }
      ],
      "source": [
        "from sklearn.metrics import roc_auc_score\n",
        "y_score = model_LDA.predict_proba(X_test)\n",
        "roc_auc_score(y_test,y_score, multi_class='ovo')"
      ]
    },
    {
      "cell_type": "code",
      "execution_count": null,
      "metadata": {
        "id": "_HIyq3DLttXp"
      },
      "outputs": [],
      "source": []
    }
  ],
  "metadata": {
    "colab": {
      "provenance": []
    },
    "kernelspec": {
      "display_name": "Python 3",
      "name": "python3"
    },
    "language_info": {
      "name": "python"
    }
  },
  "nbformat": 4,
  "nbformat_minor": 0
}